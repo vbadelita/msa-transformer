{
 "cells": [
  {
   "cell_type": "markdown",
   "id": "2ac3a381",
   "metadata": {},
   "source": [
    "# Download UniProt data from: https://www.uniprot.org/help/downloads\n",
    "\n",
    "Move it to `data/` and decompress it with `gunzip`.\n",
    "\n",
    "Make sure you have `seqkit` installed: https://bioinf.shenwei.me/seqkit/"
   ]
  },
  {
   "cell_type": "markdown",
   "id": "7073dd9f",
   "metadata": {
    "vscode": {
     "languageId": "plaintext"
    }
   },
   "source": [
    "# Splitting test and train set"
   ]
  },
  {
   "cell_type": "code",
   "execution_count": 2,
   "id": "698d1b82",
   "metadata": {},
   "outputs": [
    {
     "name": "stderr",
     "output_type": "stream",
     "text": [
      "[INFO]\u001b[0m sample by proportion\n",
      "[INFO]\u001b[0m 3512740 sequences outputted\n",
      "[INFO]\u001b[0m 3512740 patterns loaded from file\n"
     ]
    }
   ],
   "source": [
    "%%bash\n",
    "# 5% random test split (reproducible with a seed)\n",
    "seqkit sample -p 0.05 -s 42 data/uniref50.fasta -o data/uniref50.test.fasta\n",
    "\n",
    "# Get IDs of test sequences\n",
    "seqkit seq -n -i data/uniref50.test.fasta > data/uniref50.test.ids\n",
    "\n",
    "# Train = original minus test\n",
    "seqkit grep -v -f data/uniref50.test.ids data/uniref50.fasta -o data/uniref50.train.fasta\n",
    "\n",
    "# Get IDs of train sequences\n",
    "seqkit seq -n -i data/uniref50.train.fasta > data/uniref50.train.ids\n"
   ]
  },
  {
   "cell_type": "markdown",
   "id": "0145461a",
   "metadata": {},
   "source": [
    "# Also split trrosetta data\n",
    "\n",
    "Run the `download_data.sh` script to download it."
   ]
  },
  {
   "cell_type": "code",
   "execution_count": null,
   "id": "a2f1fc3d",
   "metadata": {},
   "outputs": [],
   "source": [
    "%%bash\n",
    "# 5% random test split (reproducible with a seed)\n",
    "seqkit sample -p 0.005 -s 42 data/uniref50.train.fasta -o data/uniref50.train.005.fasta"
   ]
  }
 ],
 "metadata": {
  "kernelspec": {
   "display_name": "proteins",
   "language": "python",
   "name": "python3"
  },
  "language_info": {
   "codemirror_mode": {
    "name": "ipython",
    "version": 3
   },
   "file_extension": ".py",
   "mimetype": "text/x-python",
   "name": "python",
   "nbconvert_exporter": "python",
   "pygments_lexer": "ipython3",
   "version": "3.12.11"
  }
 },
 "nbformat": 4,
 "nbformat_minor": 5
}
